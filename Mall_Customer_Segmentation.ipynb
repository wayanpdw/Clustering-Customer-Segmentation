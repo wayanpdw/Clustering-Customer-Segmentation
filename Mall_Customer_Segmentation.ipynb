{
  "nbformat": 4,
  "nbformat_minor": 0,
  "metadata": {
    "colab": {
      "name": "Mall-Customer-Segmentation.ipynb",
      "provenance": [],
      "authorship_tag": "ABX9TyN91YVsXeryY7d1oXl5DtU5",
      "include_colab_link": true
    },
    "kernelspec": {
      "name": "python3",
      "display_name": "Python 3"
    }
  },
  "cells": [
    {
      "cell_type": "markdown",
      "metadata": {
        "id": "view-in-github",
        "colab_type": "text"
      },
      "source": [
        "<a href=\"https://colab.research.google.com/github/wayanpdw/Clustering-Customer-Segmentation/blob/main/Mall_Customer_Segmentation.ipynb\" target=\"_parent\"><img src=\"https://colab.research.google.com/assets/colab-badge.svg\" alt=\"Open In Colab\"/></a>"
      ]
    },
    {
      "cell_type": "markdown",
      "metadata": {
        "id": "nagREQmiE7H5"
      },
      "source": [
        "# **Clustering**\n",
        "I Wayan Pasek Dian Wahyudi | DS0114 | Telkom DTI 2020\n",
        "\n",
        "\n",
        "# Pendahuluan\n",
        "Analisis *cluster* atau *clustering* adalah sebuah proses mengkategorikan data ke dalam beberapa kelompok/ *cluster* sehingga anggota kelompok dalam satu *cluster* memiliki nilai kemiripan lebih tinggi daripada kelompok lain.\n",
        "\n",
        "Umumnya proses *clustering* dibagi menjadi dua metode yaitu:\n",
        "\n",
        "\n",
        "1.   Hierarchial *Clustering* (Teknik *clustering* berdasarkan hirarki, dimana terdapat penggabungan dua grup yang terdekat)\n",
        "2.   Particial *Clustering* (Pengelompokan data dengan metode penetapan titik pusat/ centroid dan meminimumkan jarak kemiripan dari seluruh data ke centroidnya masing-masing)\n",
        "\n",
        "Terdapat Tiga jenis metode patitional *clustering* yang populer, yaitu: K-Means, Fuzzy C-means, dan QT *clustering*.\n",
        "\n",
        "\n"
      ]
    },
    {
      "cell_type": "markdown",
      "metadata": {
        "id": "aeHEAZuJQoRz"
      },
      "source": [
        "# Pemanfaatan Metode Clustering\n",
        "\n",
        "Pada proyek kali ini kita akan memodelkan metode *clustering* berdasarkan data pendapatan dan pengeluaran dari pelanggan pada suatu mall. Model ini nantinya akan digunakan untuk membuat sebuah segmentasi pelanggan, sehingga dalam pemanfaatannya diharapkan model ini dapat digunakan sebagai insight dalam strategi pemasaran yang optimal.\n",
        "\n",
        "Data pelanggan yang akan digunakan bersumber dari https://raw.githubusercontent.com/wayanpdw/Clustering-Customer-Segmentation/main/Mall_Customers.csv\n",
        "\n",
        "Langkah-langkah dalam membuat model *clustering* akan dijabarkan secara runut dibawah."
      ]
    },
    {
      "cell_type": "markdown",
      "metadata": {
        "id": "F9YAodzuN-Yx"
      },
      "source": [
        "#1. Menyiapkan Data\n",
        "\n",
        "\n",
        "Mengimpor *Libraries*\n"
      ]
    },
    {
      "cell_type": "code",
      "metadata": {
        "id": "VTubV-_hEzMN"
      },
      "source": [
        "import numpy as np\n",
        "import pandas as pd\n",
        "import matplotlib.pyplot as plt\n",
        "import seaborn as sns"
      ],
      "execution_count": 1,
      "outputs": []
    },
    {
      "cell_type": "markdown",
      "metadata": {
        "id": "HSB4eTqsTCbV"
      },
      "source": [
        "Mengimpor data mentah dengan *library* pandas\n",
        "\n"
      ]
    },
    {
      "cell_type": "code",
      "metadata": {
        "id": "Hl0YLrwrTKG4",
        "outputId": "dfd01aec-cd76-4631-a99b-2d360ede1412",
        "colab": {
          "base_uri": "https://localhost:8080/",
          "height": 204
        }
      },
      "source": [
        "df_data = pd.read_csv ('https://raw.githubusercontent.com/wayanpdw/Clustering-Customer-Segmentation/main/Mall_Customers.csv')\n",
        "df_data\n",
        "\n",
        "# Memunculkan 5 data pertama dalam sebuah dataframe baru (opsional)\n",
        "df_data.head()"
      ],
      "execution_count": 12,
      "outputs": [
        {
          "output_type": "execute_result",
          "data": {
            "text/html": [
              "<div>\n",
              "<style scoped>\n",
              "    .dataframe tbody tr th:only-of-type {\n",
              "        vertical-align: middle;\n",
              "    }\n",
              "\n",
              "    .dataframe tbody tr th {\n",
              "        vertical-align: top;\n",
              "    }\n",
              "\n",
              "    .dataframe thead th {\n",
              "        text-align: right;\n",
              "    }\n",
              "</style>\n",
              "<table border=\"1\" class=\"dataframe\">\n",
              "  <thead>\n",
              "    <tr style=\"text-align: right;\">\n",
              "      <th></th>\n",
              "      <th>CustomerID</th>\n",
              "      <th>Gender</th>\n",
              "      <th>Age</th>\n",
              "      <th>Annual Income (k$)</th>\n",
              "      <th>Spending Score (1-100)</th>\n",
              "    </tr>\n",
              "  </thead>\n",
              "  <tbody>\n",
              "    <tr>\n",
              "      <th>0</th>\n",
              "      <td>1</td>\n",
              "      <td>Male</td>\n",
              "      <td>19</td>\n",
              "      <td>15</td>\n",
              "      <td>39</td>\n",
              "    </tr>\n",
              "    <tr>\n",
              "      <th>1</th>\n",
              "      <td>2</td>\n",
              "      <td>Male</td>\n",
              "      <td>21</td>\n",
              "      <td>15</td>\n",
              "      <td>81</td>\n",
              "    </tr>\n",
              "    <tr>\n",
              "      <th>2</th>\n",
              "      <td>3</td>\n",
              "      <td>Female</td>\n",
              "      <td>20</td>\n",
              "      <td>16</td>\n",
              "      <td>6</td>\n",
              "    </tr>\n",
              "    <tr>\n",
              "      <th>3</th>\n",
              "      <td>4</td>\n",
              "      <td>Female</td>\n",
              "      <td>23</td>\n",
              "      <td>16</td>\n",
              "      <td>77</td>\n",
              "    </tr>\n",
              "    <tr>\n",
              "      <th>4</th>\n",
              "      <td>5</td>\n",
              "      <td>Female</td>\n",
              "      <td>31</td>\n",
              "      <td>17</td>\n",
              "      <td>40</td>\n",
              "    </tr>\n",
              "  </tbody>\n",
              "</table>\n",
              "</div>"
            ],
            "text/plain": [
              "   CustomerID  Gender  Age  Annual Income (k$)  Spending Score (1-100)\n",
              "0           1    Male   19                  15                      39\n",
              "1           2    Male   21                  15                      81\n",
              "2           3  Female   20                  16                       6\n",
              "3           4  Female   23                  16                      77\n",
              "4           5  Female   31                  17                      40"
            ]
          },
          "metadata": {
            "tags": []
          },
          "execution_count": 12
        }
      ]
    },
    {
      "cell_type": "markdown",
      "metadata": {
        "id": "4i5AZQP8VerO"
      },
      "source": [
        "Menampilkan informasi dari dataset pelanggan."
      ]
    },
    {
      "cell_type": "code",
      "metadata": {
        "id": "b7kQlyKuVo5S",
        "outputId": "fd13195d-c134-4042-f757-2ffb47385bb3",
        "colab": {
          "base_uri": "https://localhost:8080/"
        }
      },
      "source": [
        "df_data.info()"
      ],
      "execution_count": 13,
      "outputs": [
        {
          "output_type": "stream",
          "text": [
            "<class 'pandas.core.frame.DataFrame'>\n",
            "RangeIndex: 200 entries, 0 to 199\n",
            "Data columns (total 5 columns):\n",
            " #   Column                  Non-Null Count  Dtype \n",
            "---  ------                  --------------  ----- \n",
            " 0   CustomerID              200 non-null    int64 \n",
            " 1   Gender                  200 non-null    object\n",
            " 2   Age                     200 non-null    int64 \n",
            " 3   Annual Income (k$)      200 non-null    int64 \n",
            " 4   Spending Score (1-100)  200 non-null    int64 \n",
            "dtypes: int64(4), object(1)\n",
            "memory usage: 7.9+ KB\n"
          ],
          "name": "stdout"
        }
      ]
    },
    {
      "cell_type": "markdown",
      "metadata": {
        "id": "QdpTxiIyXGWE"
      },
      "source": [
        "Dari informasi diatas, terdapat dua jenis data yaitu tipe data integer dan object. Data integer kita olah untuk membuat *Descriptive Statics*.\n",
        "\n",
        "Berikut tampilan *Descriptive Statics*-nya."
      ]
    },
    {
      "cell_type": "code",
      "metadata": {
        "id": "6jiZ5EoDXorc",
        "outputId": "4412f991-f611-4a12-8b28-958263acd973",
        "colab": {
          "base_uri": "https://localhost:8080/",
          "height": 173
        }
      },
      "source": [
        "df_data.describe().transpose()"
      ],
      "execution_count": 14,
      "outputs": [
        {
          "output_type": "execute_result",
          "data": {
            "text/html": [
              "<div>\n",
              "<style scoped>\n",
              "    .dataframe tbody tr th:only-of-type {\n",
              "        vertical-align: middle;\n",
              "    }\n",
              "\n",
              "    .dataframe tbody tr th {\n",
              "        vertical-align: top;\n",
              "    }\n",
              "\n",
              "    .dataframe thead th {\n",
              "        text-align: right;\n",
              "    }\n",
              "</style>\n",
              "<table border=\"1\" class=\"dataframe\">\n",
              "  <thead>\n",
              "    <tr style=\"text-align: right;\">\n",
              "      <th></th>\n",
              "      <th>count</th>\n",
              "      <th>mean</th>\n",
              "      <th>std</th>\n",
              "      <th>min</th>\n",
              "      <th>25%</th>\n",
              "      <th>50%</th>\n",
              "      <th>75%</th>\n",
              "      <th>max</th>\n",
              "    </tr>\n",
              "  </thead>\n",
              "  <tbody>\n",
              "    <tr>\n",
              "      <th>CustomerID</th>\n",
              "      <td>200.0</td>\n",
              "      <td>100.50</td>\n",
              "      <td>57.879185</td>\n",
              "      <td>1.0</td>\n",
              "      <td>50.75</td>\n",
              "      <td>100.5</td>\n",
              "      <td>150.25</td>\n",
              "      <td>200.0</td>\n",
              "    </tr>\n",
              "    <tr>\n",
              "      <th>Age</th>\n",
              "      <td>200.0</td>\n",
              "      <td>38.85</td>\n",
              "      <td>13.969007</td>\n",
              "      <td>18.0</td>\n",
              "      <td>28.75</td>\n",
              "      <td>36.0</td>\n",
              "      <td>49.00</td>\n",
              "      <td>70.0</td>\n",
              "    </tr>\n",
              "    <tr>\n",
              "      <th>Annual Income (k$)</th>\n",
              "      <td>200.0</td>\n",
              "      <td>60.56</td>\n",
              "      <td>26.264721</td>\n",
              "      <td>15.0</td>\n",
              "      <td>41.50</td>\n",
              "      <td>61.5</td>\n",
              "      <td>78.00</td>\n",
              "      <td>137.0</td>\n",
              "    </tr>\n",
              "    <tr>\n",
              "      <th>Spending Score (1-100)</th>\n",
              "      <td>200.0</td>\n",
              "      <td>50.20</td>\n",
              "      <td>25.823522</td>\n",
              "      <td>1.0</td>\n",
              "      <td>34.75</td>\n",
              "      <td>50.0</td>\n",
              "      <td>73.00</td>\n",
              "      <td>99.0</td>\n",
              "    </tr>\n",
              "  </tbody>\n",
              "</table>\n",
              "</div>"
            ],
            "text/plain": [
              "                        count    mean        std  ...    50%     75%    max\n",
              "CustomerID              200.0  100.50  57.879185  ...  100.5  150.25  200.0\n",
              "Age                     200.0   38.85  13.969007  ...   36.0   49.00   70.0\n",
              "Annual Income (k$)      200.0   60.56  26.264721  ...   61.5   78.00  137.0\n",
              "Spending Score (1-100)  200.0   50.20  25.823522  ...   50.0   73.00   99.0\n",
              "\n",
              "[4 rows x 8 columns]"
            ]
          },
          "metadata": {
            "tags": []
          },
          "execution_count": 14
        }
      ]
    },
    {
      "cell_type": "markdown",
      "metadata": {
        "id": "Tc5eu6RSX6-i"
      },
      "source": [
        ""
      ]
    },
    {
      "cell_type": "code",
      "metadata": {
        "id": "FHH4ofeWXFWP"
      },
      "source": [
        ""
      ],
      "execution_count": null,
      "outputs": []
    }
  ]
}